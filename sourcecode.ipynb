import cv2
import os
from deepface import DeepFace
from google.colab.patches import cv2_imshow

def read_img(path):
    img = cv2.imread(path)
    if img is None:
        print(f"Failed to load image: {path}")
        return None
    (h, w) = img.shape[:2]
    width = 500
    r = width / float(w)
    height = int(h * r)
    return cv2.resize(img, (width, height))

known_encodings = []
known_names = []
known_dir = 'known'

for file in os.listdir(known_dir):
    if file.startswith('.'):
        continue
    img = read_img(known_dir + '/' + file)
    if img is not None:
        known_encodings.append(img)
        known_names.append(file.split('.')[0])

unknown_dir = 'unknown'
for file in os.listdir(unknown_dir):
    if file.startswith('.'):
        continue
    print("Processing", file)
    img = read_img(unknown_dir + '/' + file)
    if img is not None:
        results = []
        for known_face, name in zip(known_encodings, known_names):
            result = DeepFace.verify(img, known_face, model_name='Facenet', distance_metric='cosine', threshold=0.4)
            is_match = result['verified']
            if is_match:
                results.append(name)

        if results:
            for i, name in enumerate(results):
                cv2.putText(img, name, (10, 30 + i * 30), cv2.FONT_HERSHEY_SIMPLEX, 1, (0, 255, 0), 2)
            cv2_imshow(img)
        else:
            print("No matches found")

        print(file)
        print("Matched with:", results)
